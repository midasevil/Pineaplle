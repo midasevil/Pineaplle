{
 "cells": [
  {
   "cell_type": "code",
   "execution_count": 1,
   "metadata": {
    "collapsed": true
   },
   "outputs": [],
   "source": [
    "import numpy as np\n",
    "import pandas as pd\n",
    "import matplotlib.pyplot as plt\n",
    "from sklearn.model_selection import train_test_split\n",
    "from collections import Counter\n",
    "import math\n",
    "\n",
    "%matplotlib inline"
   ]
  },
  {
   "cell_type": "code",
   "execution_count": 2,
   "metadata": {
    "collapsed": true
   },
   "outputs": [],
   "source": [
    "def create_data():\n",
    "    datasets = [['青年', '否', '否', '一般', '否'],\n",
    "               ['青年', '否', '否', '好', '否'],\n",
    "               ['青年', '是', '否', '好', '是'],\n",
    "               ['青年', '是', '是', '一般', '是'],\n",
    "               ['青年', '否', '否', '一般', '否'],\n",
    "               ['中年', '否', '否', '一般', '否'],\n",
    "               ['中年', '否', '否', '好', '否'],\n",
    "               ['中年', '是', '是', '好', '是'],\n",
    "               ['中年', '否', '是', '非常好', '是'],\n",
    "               ['中年', '否', '是', '非常好', '是'],\n",
    "               ['老年', '否', '是', '非常好', '是'],\n",
    "               ['老年', '否', '是', '好', '是'],\n",
    "               ['老年', '是', '否', '好', '是'],\n",
    "               ['老年', '是', '否', '非常好', '是'],\n",
    "               ['老年', '否', '否', '一般', '否'],\n",
    "               ]\n",
    "    labels = [u'年龄', u'有工作', u'有自己的房子', u'信贷情况', u'类别']\n",
    "    return datasets, labels"
   ]
  },
  {
   "cell_type": "code",
   "execution_count": 7,
   "metadata": {},
   "outputs": [
    {
     "ename": "SyntaxError",
     "evalue": "invalid syntax (<ipython-input-7-22ae3b446753>, line 3)",
     "output_type": "error",
     "traceback": [
      "\u001b[0;36m  File \u001b[0;32m\"<ipython-input-7-22ae3b446753>\"\u001b[0;36m, line \u001b[0;32m3\u001b[0m\n\u001b[0;31m    self.\u001b[0m\n\u001b[0m         ^\u001b[0m\n\u001b[0;31mSyntaxError\u001b[0m\u001b[0;31m:\u001b[0m invalid syntax\n"
     ]
    }
   ],
   "source": [
    "class Node:\n",
    "    def __init__(self,leaf=False,feature=None,label=None):\n",
    "        self.leaf = leaf\n",
    "        self.feature = feature\n",
    "        self.label = label\n",
    "        self.tree = {}\n",
    "    def add_node(self,val,node):\n",
    "        self.tree[val] = node\n",
    "        \n",
    "class DT:\n",
    "    def __init__():\n",
    "    \n",
    "    def calc_ent(train_y):\n",
    "        counter_y = Counter(train_y)\n",
    "        ent = 0.0\n",
    "        for label in counter_y:\n",
    "            p_label = counter_y[label]/len(train_y)\n",
    "            ent -= p_label*math.log(p_label) \n",
    "        return ent\n",
    "                            \n",
    "    def calc_cond_ent(feat,train_X,train_y):\n",
    "        feature_values = train_X[:,feat]\n",
    "        cond_ent = 0.0\n",
    "        sub_y_split_by_feature = {}\n",
    "        for n in len(feature_values):\n",
    "            v = feature_values[n]\n",
    "            if v not in sub_y_split_by_feature:\n",
    "                sub_y_split_by_feature[v] = []\n",
    "            sub_y_split_by_feature[v].append(train_y[n])\n",
    "        cont_ent = sum((len(p)/len(feature_values)*calc_ent(p) for p in sub_y_split_by_feature.values()))\n",
    "        return cond_ent\n",
    "        \n",
    "    def info_gain(ent,cond_ent):\n",
    "        return ent - cond_ent\n",
    "    \n",
    "    def fetch_best_split_feature():        \n",
    "        return best_feat\n",
    "        \n",
    "    \n",
    "    def train(train_X,train_y,train_features):\n",
    "        if set(train_y) == 1:\n",
    "            return Node(leaf=True,label=train_y[0])\n",
    "        if train_X == []:\n",
    "            label = counter(train_y).most_common(1)[0]\n",
    "            return Node(leaf=True,label= label)\n",
    "        best_feat = fetch_best_split_feature()\n",
    "        node_tree = Node(feature = train_features(best_feat))\n",
    "        feat_values = set(train_X[:,best_feat])\n",
    "        for v in feat_values:\n",
    "            sub_train_X = \n",
    "            sub_train_y = \n",
    "            self.train(sub_train_X,sub_train_y)\n",
    "        return root\n",
    "    \n",
    "    def predict(test_X):\n",
    "        return test_y"
   ]
  },
  {
   "cell_type": "code",
   "execution_count": 6,
   "metadata": {},
   "outputs": [
    {
     "name": "stdout",
     "output_type": "stream",
     "text": [
      "b\n",
      "c\n"
     ]
    }
   ],
   "source": []
  },
  {
   "cell_type": "code",
   "execution_count": null,
   "metadata": {
    "collapsed": true
   },
   "outputs": [],
   "source": []
  }
 ],
 "metadata": {
  "kernelspec": {
   "display_name": "Python 3",
   "language": "python",
   "name": "python3"
  },
  "language_info": {
   "codemirror_mode": {
    "name": "ipython",
    "version": 3
   },
   "file_extension": ".py",
   "mimetype": "text/x-python",
   "name": "python",
   "nbconvert_exporter": "python",
   "pygments_lexer": "ipython3",
   "version": "3.6.2"
  }
 },
 "nbformat": 4,
 "nbformat_minor": 2
}
